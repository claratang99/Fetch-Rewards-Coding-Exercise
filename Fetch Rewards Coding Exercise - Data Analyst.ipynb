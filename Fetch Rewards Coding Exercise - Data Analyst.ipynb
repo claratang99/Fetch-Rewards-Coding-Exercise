{
 "cells": [
  {
   "cell_type": "code",
   "execution_count": 1,
   "id": "f80d6e38",
   "metadata": {},
   "outputs": [],
   "source": [
    "import json\n",
    "import gzip\n",
    "import pandas as pd\n",
    "from pandasql import sqldf\n",
    "import matplotlib.pyplot as plt\n",
    "import seaborn as sns"
   ]
  },
  {
   "cell_type": "markdown",
   "id": "5a6c1518",
   "metadata": {},
   "source": [
    "# Data Modeling"
   ]
  },
  {
   "cell_type": "code",
   "execution_count": 2,
   "id": "be274a51",
   "metadata": {},
   "outputs": [],
   "source": [
    "def readGzFile(filename):\n",
    "    with gzip.open(filename, 'rb') as f:\n",
    "        lines = f.readlines()\n",
    "    df=[]\n",
    "    for line in lines:\n",
    "        df.append(json.loads(line))\n",
    "    return df\n",
    "\n",
    "brands_json = readGzFile('brands.json.gz')\n",
    "receipts_json = readGzFile('receipts.json.gz')\n",
    "users_json = readGzFile('users.json.gz')"
   ]
  },
  {
   "cell_type": "markdown",
   "id": "8737dff6",
   "metadata": {},
   "source": [
    "## Brands"
   ]
  },
  {
   "cell_type": "code",
   "execution_count": 3,
   "id": "e40df623",
   "metadata": {
    "scrolled": true
   },
   "outputs": [],
   "source": [
    "brands = pd.json_normalize(brands_json, max_level=2)"
   ]
  },
  {
   "cell_type": "code",
   "execution_count": 4,
   "id": "101d18af",
   "metadata": {},
   "outputs": [
    {
     "name": "stdout",
     "output_type": "stream",
     "text": [
      "<class 'pandas.core.frame.DataFrame'>\n",
      "RangeIndex: 1167 entries, 0 to 1166\n",
      "Data columns (total 9 columns):\n",
      " #   Column        Non-Null Count  Dtype \n",
      "---  ------        --------------  ----- \n",
      " 0   barcode       1167 non-null   object\n",
      " 1   category      1012 non-null   object\n",
      " 2   categoryCode  517 non-null    object\n",
      " 3   name          1167 non-null   object\n",
      " 4   topBrand      555 non-null    object\n",
      " 5   brand_id      1167 non-null   object\n",
      " 6   cpg_oid       1167 non-null   object\n",
      " 7   cpg_ref       1167 non-null   object\n",
      " 8   brandCode     933 non-null    object\n",
      "dtypes: object(9)\n",
      "memory usage: 82.2+ KB\n"
     ]
    }
   ],
   "source": [
    "brands = brands.rename(columns={'_id.$oid':'brand_id',\n",
    "                               'cpg.$id.$oid':'cpg_oid',\n",
    "                               'cpg.$ref':'cpg_ref'})\n",
    "brands.info()"
   ]
  },
  {
   "cell_type": "markdown",
   "id": "e5e4490d",
   "metadata": {},
   "source": [
    "## Users"
   ]
  },
  {
   "cell_type": "code",
   "execution_count": 5,
   "id": "ddce379c",
   "metadata": {},
   "outputs": [],
   "source": [
    "users = pd.json_normalize(users_json, max_level=1)"
   ]
  },
  {
   "cell_type": "code",
   "execution_count": 6,
   "id": "649f5064",
   "metadata": {},
   "outputs": [],
   "source": [
    "users = users.rename(columns={'_id.$oid':'user_id',\n",
    "                               'createdDate.$date':'createdDate',\n",
    "                               'lastLogin.$date':'lastLogin'})"
   ]
  },
  {
   "cell_type": "code",
   "execution_count": 7,
   "id": "3be2aa44",
   "metadata": {},
   "outputs": [
    {
     "name": "stdout",
     "output_type": "stream",
     "text": [
      "<class 'pandas.core.frame.DataFrame'>\n",
      "RangeIndex: 495 entries, 0 to 494\n",
      "Data columns (total 7 columns):\n",
      " #   Column        Non-Null Count  Dtype         \n",
      "---  ------        --------------  -----         \n",
      " 0   active        495 non-null    bool          \n",
      " 1   role          495 non-null    object        \n",
      " 2   signUpSource  447 non-null    object        \n",
      " 3   state         439 non-null    object        \n",
      " 4   user_id       495 non-null    object        \n",
      " 5   createdDate   495 non-null    datetime64[ns]\n",
      " 6   lastLogin     433 non-null    datetime64[ns]\n",
      "dtypes: bool(1), datetime64[ns](2), object(4)\n",
      "memory usage: 23.8+ KB\n"
     ]
    }
   ],
   "source": [
    "def toDateTime(df, columnName):\n",
    "    df[columnName] = pd.to_datetime(df[columnName]/1000, unit='s')\n",
    "\n",
    "toDateTime(users, 'createdDate')\n",
    "toDateTime(users, 'lastLogin')\n",
    "users.info()"
   ]
  },
  {
   "cell_type": "markdown",
   "id": "2c7c6e60",
   "metadata": {},
   "source": [
    "## Receipts & RewardsReceiptItem"
   ]
  },
  {
   "cell_type": "code",
   "execution_count": 8,
   "id": "ec4a5beb",
   "metadata": {},
   "outputs": [],
   "source": [
    "receipts_all = pd.json_normalize(receipts_json)"
   ]
  },
  {
   "cell_type": "code",
   "execution_count": 9,
   "id": "165c434d",
   "metadata": {},
   "outputs": [],
   "source": [
    "receipts = receipts_all.drop(columns='rewardsReceiptItemList').rename(\n",
    "    columns={\n",
    "        '_id.$oid': 'receipt_id',\n",
    "        'userId': 'user_id',\n",
    "        'createDate.$date': 'createDate',\n",
    "        'dateScanned.$date': 'dateScanned',\n",
    "        'finishedDate.$date': 'finishedDate',\n",
    "        'modifyDate.$date': 'modifyDate',\n",
    "        'pointsAwardedDate.$date': 'pointsAwardedDate',\n",
    "        'purchaseDate.$date': 'purchaseDate'\n",
    "    })"
   ]
  },
  {
   "cell_type": "code",
   "execution_count": 10,
   "id": "8a37bb4c",
   "metadata": {},
   "outputs": [],
   "source": [
    "toDateTime(receipts, 'createDate')\n",
    "toDateTime(receipts, 'dateScanned')\n",
    "toDateTime(receipts, 'finishedDate')\n",
    "toDateTime(receipts, 'modifyDate')\n",
    "toDateTime(receipts, 'pointsAwardedDate')\n",
    "toDateTime(receipts, 'purchaseDate')"
   ]
  },
  {
   "cell_type": "code",
   "execution_count": 11,
   "id": "16690dad",
   "metadata": {},
   "outputs": [
    {
     "name": "stdout",
     "output_type": "stream",
     "text": [
      "<class 'pandas.core.frame.DataFrame'>\n",
      "RangeIndex: 1119 entries, 0 to 1118\n",
      "Data columns (total 14 columns):\n",
      " #   Column                   Non-Null Count  Dtype         \n",
      "---  ------                   --------------  -----         \n",
      " 0   bonusPointsEarned        544 non-null    float64       \n",
      " 1   bonusPointsEarnedReason  544 non-null    object        \n",
      " 2   pointsEarned             609 non-null    float64       \n",
      " 3   purchasedItemCount       635 non-null    float64       \n",
      " 4   rewardsReceiptStatus     1119 non-null   object        \n",
      " 5   totalSpent               684 non-null    float64       \n",
      " 6   user_id                  1119 non-null   object        \n",
      " 7   receipt_id               1119 non-null   object        \n",
      " 8   createDate               1119 non-null   datetime64[ns]\n",
      " 9   dateScanned              1119 non-null   datetime64[ns]\n",
      " 10  finishedDate             568 non-null    datetime64[ns]\n",
      " 11  modifyDate               1119 non-null   datetime64[ns]\n",
      " 12  pointsAwardedDate        537 non-null    datetime64[ns]\n",
      " 13  purchaseDate             671 non-null    datetime64[ns]\n",
      "dtypes: datetime64[ns](6), float64(4), object(4)\n",
      "memory usage: 122.5+ KB\n"
     ]
    }
   ],
   "source": [
    "receipts.pointsEarned = receipts.pointsEarned.astype('float64')\n",
    "receipts.purchasedItemCount = receipts.purchasedItemCount.astype('float64')\n",
    "receipts.totalSpent = receipts.totalSpent.astype('float64')\n",
    "\n",
    "receipts.info()"
   ]
  },
  {
   "cell_type": "code",
   "execution_count": 12,
   "id": "db497535",
   "metadata": {},
   "outputs": [],
   "source": [
    "for i in receipts_json:\n",
    "    if 'rewardsReceiptItemList' not in i.keys():\n",
    "        i.update({'rewardsReceiptItemList': [{'barcode': None}]})\n",
    "        \n",
    "# rewardsReceiptItem = pd.json_normalize(receipts_json['rewardsReceiptItemList'],errors='ignore',record_prefix='rewardsReceiptItemList')\n",
    "rewardsReceiptItem = pd.json_normalize(receipts_json, \n",
    "                                       record_path='rewardsReceiptItemList',\n",
    "                                       meta=[['_id','$oid']]\n",
    "                                      ).rename(columns={'_id.$oid': 'receipt_id'})"
   ]
  },
  {
   "cell_type": "code",
   "execution_count": 13,
   "id": "5620eabb",
   "metadata": {},
   "outputs": [
    {
     "name": "stdout",
     "output_type": "stream",
     "text": [
      "<class 'pandas.core.frame.DataFrame'>\n",
      "RangeIndex: 7381 entries, 0 to 7380\n",
      "Data columns (total 35 columns):\n",
      " #   Column                              Non-Null Count  Dtype  \n",
      "---  ------                              --------------  -----  \n",
      " 0   barcode                             3090 non-null   object \n",
      " 1   description                         6560 non-null   object \n",
      " 2   finalPrice                          6767 non-null   float64\n",
      " 3   itemPrice                           6767 non-null   float64\n",
      " 4   needsFetchReview                    813 non-null    object \n",
      " 5   partnerItemId                       6941 non-null   float64\n",
      " 6   preventTargetGapPoints              358 non-null    object \n",
      " 7   quantityPurchased                   6767 non-null   float64\n",
      " 8   userFlaggedBarcode                  337 non-null    float64\n",
      " 9   userFlaggedNewItem                  323 non-null    object \n",
      " 10  userFlaggedPrice                    299 non-null    float64\n",
      " 11  userFlaggedQuantity                 299 non-null    float64\n",
      " 12  needsFetchReviewReason              219 non-null    object \n",
      " 13  pointsNotAwardedReason              340 non-null    object \n",
      " 14  pointsPayerId                       1267 non-null   object \n",
      " 15  rewardsGroup                        1731 non-null   object \n",
      " 16  rewardsProductPartnerId             2269 non-null   object \n",
      " 17  userFlaggedDescription              205 non-null    object \n",
      " 18  originalMetaBriteBarcode            71 non-null     object \n",
      " 19  originalMetaBriteDescription        10 non-null     object \n",
      " 20  brandCode                           2600 non-null   object \n",
      " 21  competitorRewardsGroup              275 non-null    object \n",
      " 22  discountedItemPrice                 5769 non-null   float64\n",
      " 23  originalReceiptItemText             5760 non-null   object \n",
      " 24  itemNumber                          153 non-null    float64\n",
      " 25  originalMetaBriteQuantityPurchased  15 non-null     float64\n",
      " 26  pointsEarned                        927 non-null    float64\n",
      " 27  targetPrice                         378 non-null    float64\n",
      " 28  competitiveProduct                  645 non-null    object \n",
      " 29  originalFinalPrice                  9 non-null      float64\n",
      " 30  originalMetaBriteItemPrice          9 non-null      float64\n",
      " 31  deleted                             9 non-null      object \n",
      " 32  priceAfterCoupon                    956 non-null    float64\n",
      " 33  metabriteCampaignId                 863 non-null    object \n",
      " 34  receipt_id                          7381 non-null   object \n",
      "dtypes: float64(15), object(20)\n",
      "memory usage: 2.0+ MB\n"
     ]
    }
   ],
   "source": [
    "rewardsReceiptItem.finalPrice = rewardsReceiptItem.finalPrice.astype('float64')\n",
    "rewardsReceiptItem.itemPrice = rewardsReceiptItem.itemPrice.astype('float64')\n",
    "rewardsReceiptItem.partnerItemId = rewardsReceiptItem.partnerItemId.astype('float64')\n",
    "rewardsReceiptItem.userFlaggedBarcode = rewardsReceiptItem.userFlaggedBarcode.astype('float64')\n",
    "rewardsReceiptItem.userFlaggedPrice = rewardsReceiptItem.userFlaggedPrice.astype('float64')\n",
    "rewardsReceiptItem.discountedItemPrice = rewardsReceiptItem.discountedItemPrice.astype('float64')\n",
    "rewardsReceiptItem.itemNumber = rewardsReceiptItem.itemNumber.astype('float64')\n",
    "rewardsReceiptItem.pointsEarned = rewardsReceiptItem.pointsEarned.astype('float64')\n",
    "rewardsReceiptItem.targetPrice = rewardsReceiptItem.targetPrice.astype('float64')\n",
    "rewardsReceiptItem.originalFinalPrice = rewardsReceiptItem.originalFinalPrice.astype('float64')\n",
    "rewardsReceiptItem.originalMetaBriteItemPrice = rewardsReceiptItem.originalMetaBriteItemPrice.astype('float64')\n",
    "rewardsReceiptItem.priceAfterCoupon = rewardsReceiptItem.priceAfterCoupon.astype('float64')\n",
    "\n",
    "rewardsReceiptItem.info()"
   ]
  },
  {
   "cell_type": "markdown",
   "id": "6c146d88",
   "metadata": {},
   "source": [
    "# Questions"
   ]
  },
  {
   "cell_type": "markdown",
   "id": "10f67258",
   "metadata": {},
   "source": [
    "## What are the top 5 brands by receipts scanned for most recent month?"
   ]
  },
  {
   "cell_type": "code",
   "execution_count": 14,
   "id": "d57e12ce",
   "metadata": {},
   "outputs": [
    {
     "data": {
      "text/html": [
       "<div>\n",
       "<style scoped>\n",
       "    .dataframe tbody tr th:only-of-type {\n",
       "        vertical-align: middle;\n",
       "    }\n",
       "\n",
       "    .dataframe tbody tr th {\n",
       "        vertical-align: top;\n",
       "    }\n",
       "\n",
       "    .dataframe thead th {\n",
       "        text-align: right;\n",
       "    }\n",
       "</style>\n",
       "<table border=\"1\" class=\"dataframe\">\n",
       "  <thead>\n",
       "    <tr style=\"text-align: right;\">\n",
       "      <th></th>\n",
       "      <th>ym</th>\n",
       "    </tr>\n",
       "  </thead>\n",
       "  <tbody>\n",
       "    <tr>\n",
       "      <th>0</th>\n",
       "      <td>2021-03</td>\n",
       "    </tr>\n",
       "  </tbody>\n",
       "</table>\n",
       "</div>"
      ],
      "text/plain": [
       "        ym\n",
       "0  2021-03"
      ]
     },
     "execution_count": 14,
     "metadata": {},
     "output_type": "execute_result"
    }
   ],
   "source": [
    "pysqldf = lambda q: sqldf(q, globals())\n",
    "\n",
    "mostRecentM = '''\n",
    "SELECT max(strftime('%Y-%m', dateScanned))  as ym\n",
    "FROM receipts\n",
    "'''\n",
    "pysqldf(mostRecentM)"
   ]
  },
  {
   "cell_type": "markdown",
   "id": "dd7701b7",
   "metadata": {},
   "source": [
    "The most recent month is March 2021, however there is no item in this month. \\\n",
    "For Feb 2021, there are only 6 records, and the top 3 brands are 'BRAND', 'MISSION', and 'VIVA'. \\\n",
    "For Jan 2021, the top 5 brands are 'HY-VEE', 'BEN AND JERRYS', 'PEPSI', 'KROGER' and 'KLEENEX'."
   ]
  },
  {
   "cell_type": "code",
   "execution_count": 15,
   "id": "63efd16f",
   "metadata": {},
   "outputs": [
    {
     "data": {
      "text/html": [
       "<div>\n",
       "<style scoped>\n",
       "    .dataframe tbody tr th:only-of-type {\n",
       "        vertical-align: middle;\n",
       "    }\n",
       "\n",
       "    .dataframe tbody tr th {\n",
       "        vertical-align: top;\n",
       "    }\n",
       "\n",
       "    .dataframe thead th {\n",
       "        text-align: right;\n",
       "    }\n",
       "</style>\n",
       "<table border=\"1\" class=\"dataframe\">\n",
       "  <thead>\n",
       "    <tr style=\"text-align: right;\">\n",
       "      <th></th>\n",
       "      <th>brandCode</th>\n",
       "      <th>cnt</th>\n",
       "      <th>ym</th>\n",
       "    </tr>\n",
       "  </thead>\n",
       "  <tbody>\n",
       "    <tr>\n",
       "      <th>0</th>\n",
       "      <td>BRAND</td>\n",
       "      <td>3</td>\n",
       "      <td>2021-02</td>\n",
       "    </tr>\n",
       "    <tr>\n",
       "      <th>1</th>\n",
       "      <td>MISSION</td>\n",
       "      <td>2</td>\n",
       "      <td>2021-02</td>\n",
       "    </tr>\n",
       "    <tr>\n",
       "      <th>2</th>\n",
       "      <td>VIVA</td>\n",
       "      <td>1</td>\n",
       "      <td>2021-02</td>\n",
       "    </tr>\n",
       "    <tr>\n",
       "      <th>3</th>\n",
       "      <td>None</td>\n",
       "      <td>0</td>\n",
       "      <td>2021-02</td>\n",
       "    </tr>\n",
       "  </tbody>\n",
       "</table>\n",
       "</div>"
      ],
      "text/plain": [
       "  brandCode  cnt       ym\n",
       "0     BRAND    3  2021-02\n",
       "1   MISSION    2  2021-02\n",
       "2      VIVA    1  2021-02\n",
       "3      None    0  2021-02"
      ]
     },
     "execution_count": 15,
     "metadata": {},
     "output_type": "execute_result"
    }
   ],
   "source": [
    "top5Brand_Feb = '''\n",
    "SELECT \n",
    "    brandCode, \n",
    "    COUNT(brandCode) as cnt,\n",
    "    strftime('%Y-%m', dateScanned) as ym\n",
    "FROM receipts r LEFT JOIN rewardsReceiptItem i\n",
    "ON r.receipt_id = i.receipt_id\n",
    "WHERE ym = '2021-02'\n",
    "GROUP BY brandCode\n",
    "ORDER BY cnt DESC\n",
    "LIMIT 5\n",
    "'''\n",
    "\n",
    "pysqldf(top5Brand_Feb)"
   ]
  },
  {
   "cell_type": "code",
   "execution_count": 16,
   "id": "e5e98054",
   "metadata": {},
   "outputs": [
    {
     "data": {
      "text/html": [
       "<div>\n",
       "<style scoped>\n",
       "    .dataframe tbody tr th:only-of-type {\n",
       "        vertical-align: middle;\n",
       "    }\n",
       "\n",
       "    .dataframe tbody tr th {\n",
       "        vertical-align: top;\n",
       "    }\n",
       "\n",
       "    .dataframe thead th {\n",
       "        text-align: right;\n",
       "    }\n",
       "</style>\n",
       "<table border=\"1\" class=\"dataframe\">\n",
       "  <thead>\n",
       "    <tr style=\"text-align: right;\">\n",
       "      <th></th>\n",
       "      <th>brandCode</th>\n",
       "      <th>cnt</th>\n",
       "      <th>ym</th>\n",
       "    </tr>\n",
       "  </thead>\n",
       "  <tbody>\n",
       "    <tr>\n",
       "      <th>0</th>\n",
       "      <td>HY-VEE</td>\n",
       "      <td>291</td>\n",
       "      <td>2021-01</td>\n",
       "    </tr>\n",
       "    <tr>\n",
       "      <th>1</th>\n",
       "      <td>BEN AND JERRYS</td>\n",
       "      <td>180</td>\n",
       "      <td>2021-01</td>\n",
       "    </tr>\n",
       "    <tr>\n",
       "      <th>2</th>\n",
       "      <td>PEPSI</td>\n",
       "      <td>93</td>\n",
       "      <td>2021-01</td>\n",
       "    </tr>\n",
       "    <tr>\n",
       "      <th>3</th>\n",
       "      <td>KROGER</td>\n",
       "      <td>89</td>\n",
       "      <td>2021-01</td>\n",
       "    </tr>\n",
       "    <tr>\n",
       "      <th>4</th>\n",
       "      <td>KLEENEX</td>\n",
       "      <td>88</td>\n",
       "      <td>2021-01</td>\n",
       "    </tr>\n",
       "  </tbody>\n",
       "</table>\n",
       "</div>"
      ],
      "text/plain": [
       "        brandCode  cnt       ym\n",
       "0          HY-VEE  291  2021-01\n",
       "1  BEN AND JERRYS  180  2021-01\n",
       "2           PEPSI   93  2021-01\n",
       "3          KROGER   89  2021-01\n",
       "4         KLEENEX   88  2021-01"
      ]
     },
     "execution_count": 16,
     "metadata": {},
     "output_type": "execute_result"
    }
   ],
   "source": [
    "top5Brand_Jan = '''\n",
    "SELECT \n",
    "    brandCode, \n",
    "    COUNT(brandCode) as cnt,\n",
    "    strftime('%Y-%m', dateScanned) as ym\n",
    "FROM receipts r LEFT JOIN rewardsReceiptItem i\n",
    "ON r.receipt_id = i.receipt_id\n",
    "WHERE ym = '2021-01'\n",
    "GROUP BY brandCode\n",
    "ORDER BY cnt DESC\n",
    "LIMIT 5\n",
    "'''\n",
    "\n",
    "pysqldf(top5Brand_Jan)"
   ]
  },
  {
   "cell_type": "markdown",
   "id": "f3961f86",
   "metadata": {},
   "source": [
    "# Data Quality Check"
   ]
  },
  {
   "cell_type": "markdown",
   "id": "60a6fce4",
   "metadata": {},
   "source": [
    "## Duplicates Check"
   ]
  },
  {
   "cell_type": "markdown",
   "id": "798c35c2",
   "metadata": {},
   "source": [
    "According to the dimension check, we found that there are duplicated records in 'users' dataset."
   ]
  },
  {
   "cell_type": "code",
   "execution_count": 17,
   "id": "683f1576",
   "metadata": {},
   "outputs": [
    {
     "name": "stdout",
     "output_type": "stream",
     "text": [
      "brands Dimensions: 1167 x 9\n",
      "users Dimensions: 495 x 7\n",
      "receipts Dimensions: 1119 x 14\n",
      "rewardsReceiptItem Dimensions: 7381 x 35\n"
     ]
    }
   ],
   "source": [
    "def get_dimension(Dataset,DatasetName):\n",
    "    print(\"{} Dimensions: {} x {}\"\n",
    "          .format(DatasetName,\n",
    "                  Dataset.shape[0], \n",
    "                  Dataset.shape[1]))\n",
    "      \n",
    "get_dimension(brands,'brands')\n",
    "get_dimension(users,'users')\n",
    "get_dimension(receipts,'receipts')  \n",
    "get_dimension(rewardsReceiptItem,'rewardsReceiptItem')"
   ]
  },
  {
   "cell_type": "code",
   "execution_count": 18,
   "id": "51775f38",
   "metadata": {},
   "outputs": [
    {
     "name": "stdout",
     "output_type": "stream",
     "text": [
      "brands_dup Dimensions: 1167 x 9\n"
     ]
    }
   ],
   "source": [
    "brands_dup = brands.drop_duplicates()\n",
    "get_dimension(brands_dup,'brands_dup')"
   ]
  },
  {
   "cell_type": "code",
   "execution_count": 19,
   "id": "c9c2a5ea",
   "metadata": {},
   "outputs": [
    {
     "name": "stdout",
     "output_type": "stream",
     "text": [
      "users_dup Dimensions: 212 x 7\n"
     ]
    }
   ],
   "source": [
    "users_dup = users.drop_duplicates()\n",
    "get_dimension(users_dup,'users_dup')"
   ]
  },
  {
   "cell_type": "code",
   "execution_count": 20,
   "id": "b14f98c0",
   "metadata": {},
   "outputs": [
    {
     "name": "stdout",
     "output_type": "stream",
     "text": [
      "receipts_dup Dimensions: 1119 x 14\n"
     ]
    }
   ],
   "source": [
    "receipts_dup = receipts.drop_duplicates()\n",
    "get_dimension(receipts_dup,'receipts_dup')"
   ]
  },
  {
   "cell_type": "code",
   "execution_count": 21,
   "id": "7c5d5c65",
   "metadata": {},
   "outputs": [
    {
     "name": "stdout",
     "output_type": "stream",
     "text": [
      "rewardsReceiptItem_dup Dimensions: 7381 x 35\n"
     ]
    }
   ],
   "source": [
    "rewardsReceiptItem_dup = rewardsReceiptItem.drop_duplicates()\n",
    "get_dimension(rewardsReceiptItem_dup,'rewardsReceiptItem_dup')"
   ]
  },
  {
   "cell_type": "markdown",
   "id": "0b98d083",
   "metadata": {},
   "source": [
    "## Missing Values Check"
   ]
  },
  {
   "cell_type": "markdown",
   "id": "0bd5cddd",
   "metadata": {},
   "source": [
    "After getting the percentage of missing values in the datasets, we can see that there are lots of missing values in the datasets."
   ]
  },
  {
   "cell_type": "code",
   "execution_count": 22,
   "id": "693d271b",
   "metadata": {},
   "outputs": [],
   "source": [
    "def get_perc_missing(df):\n",
    "    perc_missing = df.isnull().sum()*100 / len(df)\n",
    "    return perc_missing"
   ]
  },
  {
   "cell_type": "code",
   "execution_count": 23,
   "id": "c7dbfc57",
   "metadata": {},
   "outputs": [
    {
     "data": {
      "text/plain": [
       "barcode          0.000000\n",
       "category        13.281919\n",
       "categoryCode    55.698372\n",
       "name             0.000000\n",
       "topBrand        52.442159\n",
       "brand_id         0.000000\n",
       "cpg_oid          0.000000\n",
       "cpg_ref          0.000000\n",
       "brandCode       20.051414\n",
       "dtype: float64"
      ]
     },
     "execution_count": 23,
     "metadata": {},
     "output_type": "execute_result"
    }
   ],
   "source": [
    "get_perc_missing(brands)"
   ]
  },
  {
   "cell_type": "code",
   "execution_count": 24,
   "id": "29122383",
   "metadata": {},
   "outputs": [
    {
     "data": {
      "text/plain": [
       "active           0.000000\n",
       "role             0.000000\n",
       "signUpSource     9.696970\n",
       "state           11.313131\n",
       "user_id          0.000000\n",
       "createdDate      0.000000\n",
       "lastLogin       12.525253\n",
       "dtype: float64"
      ]
     },
     "execution_count": 24,
     "metadata": {},
     "output_type": "execute_result"
    }
   ],
   "source": [
    "get_perc_missing(users)"
   ]
  },
  {
   "cell_type": "code",
   "execution_count": 25,
   "id": "84249042",
   "metadata": {},
   "outputs": [
    {
     "data": {
      "text/plain": [
       "bonusPointsEarned          51.385165\n",
       "bonusPointsEarnedReason    51.385165\n",
       "pointsEarned               45.576408\n",
       "purchasedItemCount         43.252904\n",
       "rewardsReceiptStatus        0.000000\n",
       "totalSpent                 38.873995\n",
       "user_id                     0.000000\n",
       "receipt_id                  0.000000\n",
       "createDate                  0.000000\n",
       "dateScanned                 0.000000\n",
       "finishedDate               49.240393\n",
       "modifyDate                  0.000000\n",
       "pointsAwardedDate          52.010724\n",
       "purchaseDate               40.035746\n",
       "dtype: float64"
      ]
     },
     "execution_count": 25,
     "metadata": {},
     "output_type": "execute_result"
    }
   ],
   "source": [
    "get_perc_missing(receipts)"
   ]
  },
  {
   "cell_type": "code",
   "execution_count": 26,
   "id": "f1d1b6f3",
   "metadata": {},
   "outputs": [
    {
     "data": {
      "text/plain": [
       "barcode                               58.135754\n",
       "description                           11.123154\n",
       "finalPrice                             8.318656\n",
       "itemPrice                              8.318656\n",
       "needsFetchReview                      88.985232\n",
       "partnerItemId                          5.961252\n",
       "preventTargetGapPoints                95.149709\n",
       "quantityPurchased                      8.318656\n",
       "userFlaggedBarcode                    95.434223\n",
       "userFlaggedNewItem                    95.623899\n",
       "userFlaggedPrice                      95.949058\n",
       "userFlaggedQuantity                   95.949058\n",
       "needsFetchReviewReason                97.032922\n",
       "pointsNotAwardedReason                95.393578\n",
       "pointsPayerId                         82.834304\n",
       "rewardsGroup                          76.547893\n",
       "rewardsProductPartnerId               69.258908\n",
       "userFlaggedDescription                97.222599\n",
       "originalMetaBriteBarcode              99.038071\n",
       "originalMetaBriteDescription          99.864517\n",
       "brandCode                             64.774421\n",
       "competitorRewardsGroup                96.274218\n",
       "discountedItemPrice                   21.839859\n",
       "originalReceiptItemText               21.961794\n",
       "itemNumber                            97.927110\n",
       "originalMetaBriteQuantityPurchased    99.796776\n",
       "pointsEarned                          87.440726\n",
       "targetPrice                           94.878743\n",
       "competitiveProduct                    91.261347\n",
       "originalFinalPrice                    99.878065\n",
       "originalMetaBriteItemPrice            99.878065\n",
       "deleted                               99.878065\n",
       "priceAfterCoupon                      87.047825\n",
       "metabriteCampaignId                   88.307817\n",
       "receipt_id                             0.000000\n",
       "dtype: float64"
      ]
     },
     "execution_count": 26,
     "metadata": {},
     "output_type": "execute_result"
    }
   ],
   "source": [
    "get_perc_missing(rewardsReceiptItem)"
   ]
  },
  {
   "cell_type": "markdown",
   "id": "6dd589e8",
   "metadata": {},
   "source": [
    "## Outliers Check"
   ]
  },
  {
   "cell_type": "markdown",
   "id": "a98f2d04",
   "metadata": {},
   "source": [
    "By drawing boxplots, we can see that there are obvious outliers in our dataset that need to be removed"
   ]
  },
  {
   "cell_type": "code",
   "execution_count": 27,
   "id": "dc68ec62",
   "metadata": {},
   "outputs": [],
   "source": [
    "def get_boxplot(df, col):\n",
    "    fig, ax = plt.subplots(nrows=1, ncols=1, figsize=(18, 3))\n",
    "    sns.boxplot(data=df, x=col)\n",
    "    ax.set_title('Boxplot of {}'.format(col), fontsize=16)\n",
    "    plt.show()"
   ]
  },
  {
   "cell_type": "code",
   "execution_count": 28,
   "id": "b4cb75bd",
   "metadata": {},
   "outputs": [
    {
     "data": {
      "image/png": "[encoded data removed]",
      "text/plain": [
       "<Figure size 1296x216 with 1 Axes>"
      ]
     },
     "metadata": {
      "needs_background": "light"
     },
     "output_type": "display_data"
    }
   ],
   "source": [
    "get_boxplot(receipts, 'totalSpent')"
   ]
  },
  {
   "cell_type": "code",
   "execution_count": 29,
   "id": "d9c86fe7",
   "metadata": {},
   "outputs": [
    {
     "data": {
      "image/png": "[encoded data removed]",
      "text/plain": [
       "<Figure size 1296x216 with 1 Axes>"
      ]
     },
     "metadata": {
      "needs_background": "light"
     },
     "output_type": "display_data"
    }
   ],
   "source": [
    "get_boxplot(receipts, 'purchasedItemCount')"
   ]
  }
 ],
 "metadata": {
  "kernelspec": {
   "display_name": "Python 3",
   "language": "python",
   "name": "python3"
  },
  "language_info": {
   "codemirror_mode": {
    "name": "ipython",
    "version": 3
   },
   "file_extension": ".py",
   "mimetype": "text/x-python",
   "name": "python",
   "nbconvert_exporter": "python",
   "pygments_lexer": "ipython3",
   "version": "3.8.8"
  },
  "toc": {
   "base_numbering": 1,
   "nav_menu": {},
   "number_sections": true,
   "sideBar": true,
   "skip_h1_title": false,
   "title_cell": "Table of Contents",
   "title_sidebar": "Contents",
   "toc_cell": false,
   "toc_position": {},
   "toc_section_display": true,
   "toc_window_display": false
  }
 },
 "nbformat": 4,
 "nbformat_minor": 5
}
